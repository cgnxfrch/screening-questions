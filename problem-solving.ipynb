{
 "cells": [
  {
   "cell_type": "markdown",
   "id": "b32553b4",
   "metadata": {},
   "source": [
    "# Problem solving: part 1\n",
    "\n",
    "Write a function returning the maximal product of 3 distinct element in an array"
   ]
  },
  {
   "cell_type": "code",
   "execution_count": 1,
   "id": "442ecd15",
   "metadata": {},
   "outputs": [],
   "source": [
    "def max_product_of_three(values = []):\n",
    "    pass"
   ]
  },
  {
   "cell_type": "markdown",
   "id": "b49cc27c",
   "metadata": {},
   "source": [
    "Test your solution"
   ]
  },
  {
   "cell_type": "code",
   "execution_count": 2,
   "id": "88927eee",
   "metadata": {
    "scrolled": false
   },
   "outputs": [],
   "source": [
    "test_case = [1,2,3]\n",
    "max_product_of_three(test_case)"
   ]
  }
 ],
 "metadata": {
  "kernelspec": {
   "display_name": "Python 3",
   "language": "python",
   "name": "python3"
  },
  "language_info": {
   "codemirror_mode": {
    "name": "ipython",
    "version": 3
   },
   "file_extension": ".py",
   "mimetype": "text/x-python",
   "name": "python",
   "nbconvert_exporter": "python",
   "pygments_lexer": "ipython3",
   "version": "3.7.10"
  }
 },
 "nbformat": 4,
 "nbformat_minor": 5
}
