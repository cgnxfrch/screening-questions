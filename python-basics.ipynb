{
 "cells": [
  {
   "cell_type": "markdown",
   "id": "6105fb27",
   "metadata": {},
   "source": [
    "# General rules\n",
    "1. Ask any questions anytime\n",
    "2. It's fine to search for library usage\n",
    "3. It's fine to skip a question"
   ]
  },
  {
   "cell_type": "markdown",
   "id": "37f9d199",
   "metadata": {},
   "source": [
    "# Python Basics"
   ]
  },
  {
   "cell_type": "markdown",
   "id": "3d6aba04",
   "metadata": {},
   "source": [
    "## Question 1: List of Squares\n",
    "Modify the function `square_numbers` so it returns a list of the first n positive square numbers"
   ]
  },
  {
   "cell_type": "code",
   "execution_count": null,
   "id": "0afcab2b",
   "metadata": {},
   "outputs": [],
   "source": [
    "def square_numbers(n):\n",
    "    \"\"\"Returns a list of the first n positive square numbers\"\"\"\n",
    "    ...\n",
    "\n",
    "# Test cases\n",
    "assert square_numbers(5) == [1, 4, 9, 16, 25]\n",
    "assert square_numbers(2) == [1, 4]\n",
    "assert square_numbers(1) == [1]\n",
    "assert square_numbers(0) == []\n",
    "assert square_numbers(-2) == []"
   ]
  },
  {
   "cell_type": "markdown",
   "id": "8beba202",
   "metadata": {},
   "source": [
    "## Question 2: What does this print?\n",
    "Without running the following code, write what it should prints down below and explain why.\n",
    "\n",
    "```python\n",
    "def test1(x):\n",
    "    x.append(1)\n",
    "    return x\n",
    "\n",
    "def test2(x):\n",
    "    x = x + [1]\n",
    "    return x\n",
    "\n",
    "a = [1]\n",
    "print(len(test1(a)))\n",
    "print(len(test2(a)))\n",
    "print(len(test1(a)))\n",
    "print(len(test2(a)))\n",
    "```"
   ]
  },
  {
   "cell_type": "code",
   "execution_count": null,
   "id": "0300756f",
   "metadata": {},
   "outputs": [],
   "source": [
    "# Write your answer here\n",
    "# Please do not run the above code"
   ]
  },
  {
   "cell_type": "markdown",
   "id": "7c7c800f",
   "metadata": {},
   "source": [
    "## Question 3: Vec2D\n",
    "1. Write a class that represents 2D vectors, which you can initialize using `vec = Vec2D(x=1.0, y=3.0)`\n",
    "2. Write a method which computes the Euclidean norm of the vector by calling `vec.norm()`\n",
    "3. Write a function that computes the distance between two vectors using `distance(vec1, vec2)`"
   ]
  },
  {
   "cell_type": "code",
   "execution_count": 3,
   "id": "bb37e478",
   "metadata": {},
   "outputs": [],
   "source": [
    "# < Your code >\n",
    "\n",
    "# All the test cases should pass\n",
    "vec1 = Vec2D(x=3.0, y=4.0)\n",
    "\n",
    "assert abs(vec1.norm() - 5.0) < 1e-6\n",
    "\n",
    "vec2 = Vec2D(x=1.0, y=4.0)\n",
    "\n",
    "assert abs(distance(vec1, vec2) - 2.0) < 1e-6"
   ]
  },
  {
   "cell_type": "markdown",
   "id": "6d707779",
   "metadata": {},
   "source": [
    "## Question 4: Modify Code\n",
    "- Explain what this code does and how it works\n",
    "- Modify the function `split_dataset` so that each split contains an equal number of each class (e.g. if there are N dogs in a split there should be N cats)\n",
    "    - You can assume that\n",
    "        - There are only 2 classes\n",
    "        - Each class has the same number of samples"
   ]
  },
  {
   "cell_type": "code",
   "execution_count": null,
   "id": "04fe7342",
   "metadata": {},
   "outputs": [],
   "source": [
    "from dataclasses import dataclass\n",
    "from typing import List, Tuple\n",
    "import math\n",
    "import random\n",
    "\n",
    "\n",
    "@dataclass\n",
    "class Sample:\n",
    "    image_path: str\n",
    "    class_name: str \n",
    "\n",
    "\n",
    "def split_dataset(samples: List[Sample]) -> Tuple[List[Sample], List[Sample]]:\n",
    "    \"\"\"Splits a dataset into train and test splits\"\"\"\n",
    "    \n",
    "    TRAIN_FRACTION = 0.8\n",
    "    num_train_samples = math.floor(len(samples) * TRAIN_FRACTION)\n",
    "\n",
    "    random.seed(123)\n",
    "    random.shuffle(samples)\n",
    "\n",
    "    train_samples = samples[:num_train_samples]\n",
    "    test_samples = samples[num_train_samples:]\n",
    "\n",
    "    return train_samples, test_samples\n",
    "\n",
    "\n",
    "# Example\n",
    "samples = [\n",
    "    Sample(image_path=\"image0.png\", class_name=\"cat\"),\n",
    "    Sample(image_path=\"image1.png\", class_name=\"cat\"),\n",
    "    Sample(image_path=\"image2.png\", class_name=\"dog\"),\n",
    "    Sample(image_path=\"image3.png\", class_name=\"dog\"),\n",
    "    Sample(image_path=\"image4.png\", class_name=\"cat\"),\n",
    "    Sample(image_path=\"image5.png\", class_name=\"dog\"),\n",
    "    Sample(image_path=\"image6.png\", class_name=\"dog\"),\n",
    "    Sample(image_path=\"image7.png\", class_name=\"dog\"),\n",
    "    Sample(image_path=\"image8.png\", class_name=\"cat\"),\n",
    "    Sample(image_path=\"image9.png\", class_name=\"cat\"),\n",
    "]\n",
    "\n",
    "train_samples, test_samples = split_dataset(samples)\n",
    "\n",
    "print(train_samples)\n",
    "print(test_samples)"
   ]
  }
 ],
 "metadata": {
  "kernelspec": {
   "display_name": "Python 3 (ipykernel)",
   "language": "python",
   "name": "python3"
  },
  "language_info": {
   "codemirror_mode": {
    "name": "ipython",
    "version": 3
   },
   "file_extension": ".py",
   "mimetype": "text/x-python",
   "name": "python",
   "nbconvert_exporter": "python",
   "pygments_lexer": "ipython3",
   "version": "3.8.10"
  }
 },
 "nbformat": 4,
 "nbformat_minor": 5
}
