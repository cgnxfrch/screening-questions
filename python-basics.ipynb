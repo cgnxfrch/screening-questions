{
 "cells": [
  {
   "cell_type": "markdown",
   "id": "6105fb27",
   "metadata": {},
   "source": [
    "# General rules\n",
    "1. Ask any questions anytime\n",
    "2. It's fine to search for library usage\n",
    "3. It's fine to skip a question"
   ]
  },
  {
   "cell_type": "markdown",
   "id": "37f9d199",
   "metadata": {},
   "source": [
    "# Part 2: Python basics"
   ]
  },
  {
   "cell_type": "markdown",
   "id": "3d6aba04",
   "metadata": {},
   "source": [
    "## Question 1: What does the code snippet below do?\n",
    "```\n",
    "def f():\n",
    "    a, b = 0, 1\n",
    "    while True:\n",
    "        yield a\n",
    "        a, b = b, a + b\n",
    "\n",
    "def run():\n",
    "    for i, x in enumerate(f()):\n",
    "        if i == 100:\n",
    "            break\n",
    "        print(x)\n",
    "```\n",
    "If it is not apparent at first sight, try copy-paste and run it first."
   ]
  },
  {
   "cell_type": "code",
   "execution_count": 1,
   "id": "0afcab2b",
   "metadata": {},
   "outputs": [],
   "source": [
    "# 1"
   ]
  },
  {
   "cell_type": "markdown",
   "id": "8beba202",
   "metadata": {},
   "source": [
    "## Question 2: What is the difference between the two lines?\n",
    "```\n",
    "odd1 = [2 * i + 1 for i in range(10)]\n",
    "odd2 = (2 * i + 1 for i in range(10))\n",
    "```"
   ]
  },
  {
   "cell_type": "code",
   "execution_count": 2,
   "id": "0300756f",
   "metadata": {},
   "outputs": [],
   "source": [
    "# 2"
   ]
  },
  {
   "cell_type": "markdown",
   "id": "7c7c800f",
   "metadata": {},
   "source": [
    "## Question 3: What is wrong with the code snippet below? Can you propose a way to fix it?\n",
    "```\n",
    "def reverse_string(x):\n",
    "    x = x[::-1]\n",
    "\n",
    "a_string = 'cognex'\n",
    "reverse_string(a_string)\n",
    "print(a_string)\n",
    "```"
   ]
  },
  {
   "cell_type": "code",
   "execution_count": 3,
   "id": "bb37e478",
   "metadata": {},
   "outputs": [],
   "source": [
    "# 3"
   ]
  }
 ],
 "metadata": {
  "kernelspec": {
   "display_name": "Python 3 (ipykernel)",
   "language": "python",
   "name": "python3"
  },
  "language_info": {
   "codemirror_mode": {
    "name": "ipython",
    "version": 3
   },
   "file_extension": ".py",
   "mimetype": "text/x-python",
   "name": "python",
   "nbconvert_exporter": "python",
   "pygments_lexer": "ipython3",
   "version": "3.9.5"
  }
 },
 "nbformat": 4,
 "nbformat_minor": 5
}
